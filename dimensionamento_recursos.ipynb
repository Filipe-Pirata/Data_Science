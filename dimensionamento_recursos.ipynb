{
  "nbformat": 4,
  "nbformat_minor": 0,
  "metadata": {
    "colab": {
      "provenance": [],
      "authorship_tag": "ABX9TyMzEsBgz7Xo/WKpeivYO92B",
      "include_colab_link": true
    },
    "kernelspec": {
      "name": "python3",
      "display_name": "Python 3"
    },
    "language_info": {
      "name": "python"
    }
  },
  "cells": [
    {
      "cell_type": "markdown",
      "metadata": {
        "id": "view-in-github",
        "colab_type": "text"
      },
      "source": [
        "<a href=\"https://colab.research.google.com/github/Filipe-Pirata/Data_Science/blob/main/dimensionamento_recursos.ipynb\" target=\"_parent\"><img src=\"https://colab.research.google.com/assets/colab-badge.svg\" alt=\"Open In Colab\"/></a>"
      ]
    },
    {
      "cell_type": "markdown",
      "source": [
        "**Dimensionamento de Recurso**\n",
        "\n",
        "O dimensionamento de recurso é utilizado para a equalizacao das features de um modelo, digamos que eu tenha uma base da dados com as seguintes informacoes; *finalizacoes, Posse_De_Bola e Salario* estes dados possuem escalas diferentes e o modelo por sua vez pode considerar que o **Salario** por ser o numero de maior escala possui uma importancia maior para o modelo e acabar dando um valor maior para ele quando comparado a outras entradas. Para isso entao temos o dimensiomanto de Recurso"
      ],
      "metadata": {
        "id": "MbPA_jYe2_B2"
      }
    },
    {
      "cell_type": "code",
      "execution_count": 2,
      "metadata": {
        "id": "CvGAIkbH2Ev_"
      },
      "outputs": [],
      "source": [
        "import numpy as np\n",
        "import pandas as pd\n",
        "from sklearn.preprocessing import MinMaxScaler, StandardScaler\n",
        "\n"
      ]
    },
    {
      "cell_type": "markdown",
      "source": [
        "Criando a pool de dados ficticios"
      ],
      "metadata": {
        "id": "eicLQefw3y39"
      }
    },
    {
      "cell_type": "code",
      "source": [
        "# Criando um DataFrame com dados fictícios\n",
        "dados = pd.DataFrame({\n",
        "    \"Finalizacoes\": [2, 5, 7, 9, 4],\n",
        "    \"Posse_Bola\": [45, 60, 75, 50, 65],\n",
        "    \"Salario\": [20000, 150000, 300000, 50000, 400000]\n",
        "})\n",
        "\n",
        "print(\"Dados originais:\")\n",
        "print(dados)\n"
      ],
      "metadata": {
        "colab": {
          "base_uri": "https://localhost:8080/"
        },
        "id": "U17Sztny2WXD",
        "outputId": "87adce59-1208-4f99-9698-14896329aba5"
      },
      "execution_count": 3,
      "outputs": [
        {
          "output_type": "stream",
          "name": "stdout",
          "text": [
            "Dados originais:\n",
            "   Finalizacoes  Posse_Bola  Salario\n",
            "0             2          45    20000\n",
            "1             5          60   150000\n",
            "2             7          75   300000\n",
            "3             9          50    50000\n",
            "4             4          65   400000\n"
          ]
        }
      ]
    },
    {
      "cell_type": "markdown",
      "source": [
        "**Metodos de Dimensionamento I**\n",
        "\n",
        "***Min-Max Scaling***\n",
        "\n",
        "\n",
        "\n",
        "1. Redimensiona os valores para ficarem dentro de um intervalo fixo, geralmente 0 e 1.\n",
        "2. Mantém a distribuição original dos dados.\n",
        "3. Ideal para KNN, Redes Neurais e métodos baseados em distância.\n",
        "\n",
        "Este metodo e mais recomendado para algoritimos baseados em distancias"
      ],
      "metadata": {
        "id": "aBxKxUbN39oF"
      }
    },
    {
      "cell_type": "code",
      "source": [
        "# Aplicando Normalização (Min-Max Scaling)\n",
        "min_max_scaler = MinMaxScaler()\n",
        "dados_normalizados = min_max_scaler.fit_transform(dados)\n",
        "dados_normalizados = pd.DataFrame(dados_normalizados, columns=dados.columns)\n",
        "\n",
        "print(\"\\nDados Normalizados (0 a 1):\")\n",
        "print(dados_normalizados)\n"
      ],
      "metadata": {
        "colab": {
          "base_uri": "https://localhost:8080/"
        },
        "id": "WlW7Aume2a5y",
        "outputId": "a3a0ca7e-96ed-4840-d823-88c49176d96f"
      },
      "execution_count": 4,
      "outputs": [
        {
          "output_type": "stream",
          "name": "stdout",
          "text": [
            "\n",
            "Dados Normalizados (0 a 1):\n",
            "   Finalizacoes  Posse_Bola   Salario\n",
            "0      0.000000    0.000000  0.000000\n",
            "1      0.428571    0.500000  0.342105\n",
            "2      0.714286    1.000000  0.736842\n",
            "3      1.000000    0.166667  0.078947\n",
            "4      0.285714    0.666667  1.000000\n"
          ]
        }
      ]
    },
    {
      "cell_type": "markdown",
      "source": [
        "**Metodo de Dimensaionamento II**\n",
        "\n",
        "***Z-score Standardization***\n",
        "\n",
        "1.   Ajusta os valores para que tenham média 0 e desvio padrão 1.\n",
        "2.   Mantém a distribuição dos dados, mas altera a escala.\n",
        "3.   Funciona bem para Regressão Linear, SVM e Redes Neurais.\n",
        "\n",
        "Este metodo e mais recomendado para algoritmos baseado em otimizacao"
      ],
      "metadata": {
        "id": "bJL_2CCX5oY4"
      }
    },
    {
      "cell_type": "code",
      "source": [
        "# Aplicando Padronização (Z-score Standardization)\n",
        "standard_scaler = StandardScaler()\n",
        "dados_padronizados = standard_scaler.fit_transform(dados)\n",
        "dados_padronizados = pd.DataFrame(dados_padronizados, columns=dados.columns)\n",
        "\n",
        "print(\"\\nDados Padronizados (Média 0, Desvio 1):\")\n",
        "print(dados_padronizados)"
      ],
      "metadata": {
        "colab": {
          "base_uri": "https://localhost:8080/"
        },
        "id": "8I8BTiLJ2elH",
        "outputId": "119eeb2d-b7c4-4c4b-ac5d-22ba92849698"
      },
      "execution_count": 6,
      "outputs": [
        {
          "output_type": "stream",
          "name": "stdout",
          "text": [
            "\n",
            "Dados Padronizados (Média 0, Desvio 1):\n",
            "   Finalizacoes  Posse_Bola   Salario\n",
            "0     -1.406930   -1.311220 -1.125720\n",
            "1     -0.165521    0.093659 -0.233381\n",
            "2      0.662085    1.498537  0.796241\n",
            "3      1.489691   -0.842927 -0.919795\n",
            "4     -0.579324    0.561951  1.482655\n"
          ]
        }
      ]
    },
    {
      "cell_type": "code",
      "source": [],
      "metadata": {
        "id": "qWEM2aYi5qF-"
      },
      "execution_count": null,
      "outputs": []
    }
  ]
}